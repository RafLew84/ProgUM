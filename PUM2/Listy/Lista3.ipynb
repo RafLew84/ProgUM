{
 "cells": [
  {
   "cell_type": "markdown",
   "id": "b3ec06d5-5fa3-456f-8631-5399f64c78b5",
   "metadata": {},
   "source": [
    "# **Lista 3**"
   ]
  },
  {
   "cell_type": "markdown",
   "id": "1f3cf518-e950-4d9c-bcad-0987094bfb2e",
   "metadata": {},
   "source": [
    "### Termin wykonania: \n",
    "- gr wt: 02.12\n",
    "- gr czw: 04.12\n",
    "\n",
    "## Zad 1 - **3 pkt**\n",
    "\n",
    "Stwórz aplikację, która będzie prostym dashboardem do śledzenia fikcyjnych cen dwóch kryptowalut (\"ComposeCoin\" i \"KotlinCoin\") oraz salda portfela użytkownika.\n",
    "\n",
    "Wymagania Funkcjonalne:\n",
    "- **Architektura**:\n",
    "  - Aplikacja musi być zaimplementowana w architekturze `MVVM`.\n",
    "  - Należy stworzyć klasę `Repository`, która będzie symulowała źródła danych.\n",
    "  - `ViewModel` będzie odpowiedzialny za logikę, łączenie strumieni i udostępnianie stanu dla UI.\n",
    "- **Warstwa Danych (`Repository`)**:\n",
    "  - Repozytorium musi udostępniać dwa niezależne, *zimne* strumienie `Flow`:\n",
    "  - `fun getComposeCoinPriceStream(): Flow<Double>`: Co 3 sekundy emituje nową, losową cenę dla \"ComposeCoin\".\n",
    "  - `fun getKotlinCoinPriceStream(): Flow<Double>`: Co 5 sekund emituje nową, losową cenę dla \"KotlinCoin\".\n",
    "- **Warstwa Logiki (`ViewModel`)**:\n",
    "  - `ViewModel` musi stworzyć jeden, główny obiekt stanu `UiState`, który będzie zawierał: aktualne ceny obu walut, ilość posiadanych monet (można założyć stałe wartości początkowe, np. 10 ComposeCoinów i 2 KotlinCoiny) oraz obliczoną całkowitą wartość portfela.\n",
    "  - Zastosuj `flowOn` aby symulacja pobierania danych z repozytorium odbywała się w tle, `combine` do połączenia strumieni oraz `stateIn` do zmiany zimnego strumienia w gorący.\n",
    "- **Warstwa Prezentacji (UI - `Composable`)**:\n",
    "  - Ekran powinien wyświetlać dane z `UiState`, obserwując `StateFlow` z `ViewModelu`.\n",
    "  - Interfejs powinien wyświetlać stan ładowania (`CircularProgressIndicator`), zanim `StateFlow` wyemituje pierwszą wartość.\n",
    "\n",
    "## Zad 2 - **3 pkt**\n",
    "\n",
    "Stwórz aplikację, która symuluje weryfikację numeru seryjnego produktu. Wynik walidacji (sukces lub błąd) ma być wyświetlony jako **jednorazowe powiadomienie**.\n",
    "\n",
    "Wymagania Funkcjonalne:\n",
    "- **Architektura**:\n",
    "  - Aplikacja musi być zaimplementowana w architekturze `MVVM`.\n",
    "  - Warstwa Danych (`Repository`):\n",
    "  - Stwórz klasę `SerialNumberRepository`.\n",
    "  - Wewnątrz niej zdefiniuj zwykłą funkcję:\n",
    "\n",
    "```Kotlin\n",
    "fun verifySerialNumber(serial: String): Boolean {\n",
    "    // Symulacja weryfikacji\n",
    "    Thread.sleep(2500)\n",
    "    // Prosta logika walidacji\n",
    "    return serial.startsWith(\"SN-\") && serial.length == 10\n",
    "}\n",
    "```\n",
    "\n",
    "- **Warstwa Logiki (`ViewModel`)**:\n",
    "  - `ViewModel` powinien mieć `StateFlow` przechowujący stan UI (`UiState`).\n",
    "  - Stwórz funkcję `onVerifyClicked()`. Wewnątrz tej funkcji, w korutynie viewModelScope.launch:\n",
    "  - `ViewModel` musi udostępniać zdarzenia walidacji jako *gorący* `SharedFlow`. Strumień ten powinien być utworzony z *zimnego* `Flow`.\n",
    "  - Wykorzystaj `withContext` aby przenieść wykonanie blokującej funkcji `repository.verifySerialNumber()` na wątek z puli `Default` oraz `shareIn` do stworzenia *gorącego*, współdzielonego strumienia, który roześle jednorazowy wynik walidacji (`event`) do wszystkich obserwatorów w UI (w zadaniu jest jeden `Snackbar`)  \n",
    "\n",
    "- **Warstwa Prezentacji (UI - `Composable`)**:\n",
    "  - Ekran powinien zawierać `TextField` do wpisania numeru seryjnego, przycisk *Weryfikuj* i wskaźnik `CircularProgressIndicator` widoczny podczas weryfikacji.\n",
    "  - UI musi subskrybować `SharedFlow` z `ViewModel`.\n",
    "\n",
    "## Odpowiedź ustna - **4 pkt**"
   ]
  },
  {
   "cell_type": "markdown",
   "id": "9157357e-47e5-408b-b550-9ddd77723caa",
   "metadata": {},
   "source": [
    "### Oceny\n",
    "\n",
    "|**ocena**|**punkty**|\n",
    "|:---:|:---:|\n",
    "|3,0 | 6 pkt|\n",
    "|3,5 | 7 pkt|\n",
    "|4,0 | 8 pkt|\n",
    "|4,5 | 9 pkt|\n",
    "|5,0 | 10 pkt|"
   ]
  },
  {
   "cell_type": "code",
   "execution_count": null,
   "id": "71f6965b-b957-41df-9c0b-ce457eb9ed50",
   "metadata": {},
   "outputs": [],
   "source": []
  }
 ],
 "metadata": {
  "kernelspec": {
   "display_name": "",
   "name": ""
  },
  "language_info": {
   "name": ""
  }
 },
 "nbformat": 4,
 "nbformat_minor": 5
}
