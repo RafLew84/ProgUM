{
 "cells": [
  {
   "cell_type": "markdown",
   "id": "3d4df25e-e5d8-4e20-bc7b-9e09135d674a",
   "metadata": {},
   "source": [
    "# **Lista 5**"
   ]
  },
  {
   "cell_type": "markdown",
   "id": "a8b7b0d9-c60b-41b3-a4eb-cede4afc003e",
   "metadata": {},
   "source": [
    "## Zad 1 - **6 pkt**\n",
    "\n"
   ]
  },
  {
   "cell_type": "markdown",
   "id": "71ef3ce2-44ea-41db-8dd4-80eda1bb4fdb",
   "metadata": {},
   "source": [
    "Stwórz aplikację będącą prostym przelicznikiem walut. Użytkownik będzie mógł wybrać walutę źródłową i docelową z listy, wpisać kwotę, a aplikacja pobierze aktualne kursy z publicznego API i wyświetli przeliczony wynik.\n",
    "\n",
    "API: Użyj darmowego i niewymagającego klucza API Frankfurter (`https://frankfurter.dev`).\n",
    "- Endpoint do pobrania listy dostępnych walut: `https://api.frankfurter.dev/v1/currencies`\n",
    "- Endpoint do pobrania kursów: `https://api.frankfurter.dev/v1/latest` (można użyć atrybutów `base` i `symbols`)\n",
    "\n",
    "- Architektura:\n",
    "  - Aplikacja musi być zaimplementowana w architekturze MVVM z warstwą domeny.\n",
    "  - Schemat przepływu: `View` ➔ `ViewModel` ➔ `Use Case` ➔ `Repository` ➔ `API` (`Retrofit`).\n",
    "  - Należy użyć `Hilt` do wstrzykiwania zależności na wszystkich warstwach.\n",
    "- Warstwa Danych (Data Layer):\n",
    "  - `Retrofit`: Stwórz `ApiService` z dwiema funkcjami suspend odpowiadającymi powyższym endpointom.\n",
    "  - `Repository`: Stwórz `CurrencyRepository`, które będzie pośrednikiem w komunikacji z `ApiService`.\n",
    "- Warstwa Domeny (`Domain Layer`):\n",
    "Logika biznesowa musi być zamknięta w `Use Case`'ach. Stwórz co najmniej trzy klasy `Use Case`:\n",
    "  - `GetSupportedCurrenciesUseCase`: Pobranie i ewentualne posortowanie listy dostępnych kodów walut (np. \"USD\", \"PLN\", \"EUR\").\n",
    "  - `ConvertCurrencyUseCase`: Wykonanie głównej logiki biznesowej – przeliczenia kwoty z jednej waluty na drugą.\n",
    "  - `FormatCurrencyResultUseCase`: Sformatowanie wyniku liczbowego na czytelny dla użytkownika String (np. \"100.00 USD = 405.50 PLN\"). Jest to `Use Case` odpowiedzialny za logikę prezentacji.\n",
    "- Warstwa Logiki i Prezentacji (ViewModel i UI):\n",
    "  - `ViewModel`:\n",
    "    - Musi wstrzyknąć (`@Inject`) wszystkie potrzebne `Use Case`'y.\n",
    "    - Zarządza stanem `UiState`, który zawiera m.in.: listę dostępnych walut, wybraną walutę źródłową i docelową, wpisaną kwotę, stan ładowania oraz finalny, sformatowany wynik.\n",
    "    - `ViewModel` nie wykonuje żadnych obliczeń ani formatowania – jedynie wywołuje odpowiednie `Use Case`'y i aktualizuje stan na podstawie ich wyników.\n",
    "  - `UI` (`Composable`):\n",
    "    - Ekran powinien zawierać:\n",
    "      - `TextField` do wpisania kwoty.\n",
    "      - Dwa rozwijane menu (`DropDownMenu` lub `ExposedDropdownMenuBox`) do wyboru waluty źródłowej i docelowej (lista walut powinna być pobrana przy starcie za pomocą `GetSupportedCurrenciesUseCase`).\n",
    "      - `Button` *Przelicz*, który uruchamia logikę w ViewModelu.\n",
    "      - `Text` wyświetlający sformatowany wynik z `UiState`.\n",
    "    - Interfejs musi obsługiwać stan ładowania (np. blokując przycisk i pokazując `CircularProgressIndicator`).\n",
    "\n",
    "## Odpowiedź ustna - **4 pkt**"
   ]
  },
  {
   "cell_type": "markdown",
   "id": "f90b9014-0d2e-48b9-9309-6c8976e63590",
   "metadata": {},
   "source": [
    "### Oceny\n",
    "\n",
    "|**ocena**|**punkty**|\n",
    "|:---:|:---:|\n",
    "|3,0 | 6 pkt|\n",
    "|3,5 | 7 pkt|\n",
    "|4,0 | 8 pkt|\n",
    "|4,5 | 9 pkt|\n",
    "|5,0 | 10 pkt|"
   ]
  },
  {
   "cell_type": "code",
   "execution_count": null,
   "id": "56eda760-386b-4d35-a343-ed879ef88d4d",
   "metadata": {},
   "outputs": [],
   "source": []
  }
 ],
 "metadata": {
  "kernelspec": {
   "display_name": "",
   "name": ""
  },
  "language_info": {
   "name": ""
  }
 },
 "nbformat": 4,
 "nbformat_minor": 5
}
