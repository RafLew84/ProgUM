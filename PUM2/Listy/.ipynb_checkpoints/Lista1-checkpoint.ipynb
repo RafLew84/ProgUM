{
 "cells": [
  {
   "cell_type": "markdown",
   "id": "c7d31f1a-b6b2-492b-a3a5-cdd1e9490c87",
   "metadata": {},
   "source": [
    "# **Lista 1**"
   ]
  },
  {
   "cell_type": "markdown",
   "id": "ee64152e-8f01-4a06-a762-0054283cf38c",
   "metadata": {},
   "source": [
    "### Termin wykonania: \n",
    "- gr wt: 21.10\n",
    "- gr czw: 23.10\n",
    "\n",
    "## Zad 1 - **6 pkt**\n",
    "\n",
    "Aplikacja \"ComposeShop\" posiada **jedną główną strukturę nawigacyjną** (obsługiwaną przez dolny pasek i szufladę) oraz **jeden zagnieżdżony potok nawigacyjny** przeznaczony do obsługi procesu składania zamówienia. (Przykład działania na filmie L1)\n",
    "\n",
    "Główny interfejs aplikacji, opiera się na połączeniu **dolnej nawigacji** i **szuflady nawigacyjnej**. Wszystkie te ekrany znajdują się w jednym, głównym grafie nawigacyjnym (`NavHost`).\n",
    "\n",
    "#### Ekrany w Dolnej Nawigacji (Bottom Navigation):\n",
    "Nawigacja odbywa się przez kliknięcie odpowiedniej ikony na dolnym pasku, co wywołuje `navController.navigate(\"nazwa_ekranu\")`.\n",
    "- Ekran Główny: Pierwszy ekran po uruchomieniu aplikacji. Wyświetla listę.\n",
    "- Ekran Kategorii: Lista z kategoriami produktów (np. \"Elektronika\", \"Moda\", \"Dom\").\n",
    "- Ekran Koszyka: Wyświetla listę produktów dodanych do koszyka (dane mogą być statyczne). Przycisk \"Przejdź do kasy\" włącza **zagnieżdżony potok nawigacyjy**.\n",
    "- Ekran Ulubionych: Lista produktów oznaczonych przez użytkownika jako ulubione.\n",
    "\n",
    "#### Ekrany w Szufladzie Nawigacyjnej (Drawer Navigation)\n",
    "\n",
    "- Ekran Mojego Profilu: Wyświetla podstawowe informacje o użytkowniku (np. imię, adres email).\n",
    "- Ekran Historii Zamówień: Lista poprzednich zamówień z datą i statusem.\n",
    "- Ekran Ustawień: Zawiera opcje konfiguracyjne, np. przełączniki do włączenia trybu ciemnego czy powiadomień (symulowane).\n",
    "- Przycisk \"Wyloguj\": Symuluje proces wylogowania, przenosząc do ekranu startowego.\n",
    "\n",
    "#### Zagnieżdżony Potok Nawigacyjny: Proces Składania Zamówienia\n",
    "\n",
    "Nawigacja do tego potoku rozpoczyna się na Ekranie Koszyka. Po wejściu w ten tryb, dolna nawigacja i szuflada przestają być widoczne, aby użytkownik mógł w pełni skupić się na procesie zakupu. Nawigacja między ekranami w tym grafie jest liniowa – użytkownik przechodzi z kroku 1 do 2, a potem do 3.\n",
    "- Ekran 1: Adres dostawy - Zawiera prosty formularz do wpisania danych adresowych.Przycisk \"Dalej\" przenosi do kolejnego ekranu w potoku\n",
    "- Ekran 2: Metoda płatności - Umożliwia wybór jednej z kilku opcji płatności (np. za pomocą RadioButton). Przycisk \"Podsumowanie\" przenosi do ostatniego kroku.\n",
    "- Ekran 3: Podsumowanie i Potwierdzenie - Wyświetla wszystkie zebrane informacje: produkty z koszyka, adres dostawy i wybraną metodę płatności.\n",
    "- Przycisk \"Zamów i zapłać\" kończy cały proces. Jego kliknięcie wykonuje kluczową akcję nawigacyjną - Usuwa cały graf składania zamówienia (checkout_graph) z historii nawigacji, dzięki czemu użytkownik nie może przypadkowo wrócić przyciskiem \"wstecz\" do ekranu płatności. Przenosi użytkownika z powrotem do głównego ekranu aplikacji.\n",
    "\n",
    "## Odpowiedź ustna - **4 pkt**"
   ]
  },
  {
   "cell_type": "markdown",
   "id": "2ac0fcad-00e4-4ba6-a60a-f59a208d7fa5",
   "metadata": {},
   "source": [
    "### Oceny\n",
    "\n",
    "|**ocena**|**punkty**|\n",
    "|:---:|:---:|\n",
    "|3,0 | 6 pkt|\n",
    "|3,5 | 7 pkt|\n",
    "|4,0 | 8 pkt|\n",
    "|4,5 | 9 pkt|\n",
    "|5,0 | 10 pkt|"
   ]
  },
  {
   "cell_type": "code",
   "execution_count": null,
   "id": "4ad6e532-b603-4553-8bd6-fef18aae0771",
   "metadata": {},
   "outputs": [],
   "source": []
  }
 ],
 "metadata": {
  "kernelspec": {
   "display_name": "",
   "name": ""
  },
  "language_info": {
   "name": ""
  }
 },
 "nbformat": 4,
 "nbformat_minor": 5
}
