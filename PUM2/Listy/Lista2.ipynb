{
 "cells": [
  {
   "cell_type": "markdown",
   "id": "601156dd-1157-4907-83f1-fceb30200e12",
   "metadata": {},
   "source": [
    "# **Lista 2**"
   ]
  },
  {
   "cell_type": "markdown",
   "id": "e45c5f57-c097-4835-a2b5-11ed19018a3c",
   "metadata": {},
   "source": [
    "### Termin wykonania: \n",
    "- gr wt: 4.11\n",
    "- gr czw: 30.10\n",
    "\n",
    "## Zad 1 - **6 pkt**\n",
    "\n",
    "Aplikacja \"Kino GURU\" służy do przeglądania informacji o filmach, która wykorzystuje **współbieżność** do jednoczesnego pobierania różnych, niezależnych od siebie danych.\n",
    "\n",
    "Aplikacja składa się z **dwóch ekranów**\n",
    "- lista popularnych filmów\n",
    "- ekran szczegółów filmu.\n",
    "\n",
    "Kluczowym elementem jest ekran szczegółów, który musi równocześnie pobrać i wyświetlić wiele informacji o wybranym filmie.\n",
    "\n",
    "Ekran Listy Filmów: Po uruchomieniu ekranu, aplikacja powinna wyświetlić stan ładowania ( `CircularProgressIndicator` przez 3sekundy). W tle, za pomocą korutyny (`launch`), powinna zostać wywołana funkcja `suspend fun fetchPopularMovies(): List<Movie>`, która po 2 sekundach zwraca listę filmów (np. 10-15 pozycji).\n",
    "\n",
    "Po pobraniu danych, lista filmów powinna zostać wyświetlona na ekranie (np. w `LazyColumn`). Każdy element listy powinien być klikalny.\n",
    "\n",
    "Ekran Szczegółów Filmu: Po kliknięciu na film (na ekranie listy filmów), użytkownik jest przenoszony na ekran szczegółów (wykorzystaj **Compose Navigation**). Na tym ekranie aplikacja musi **równocześnie pobrać trzy niezależne zestawy danych dla danego filmu**:\n",
    "- Szczegóły podstawowe (`suspend fun fetchMovieDetails())`: reżyser, rok produkcji, gatunek (opóźnienie: 1.5 sekundy).\n",
    "- Listę recenzji (`suspend fun fetchMovieReviews())`: lista opinii użytkowników (opóźnienie: 3 sekundy).\n",
    "- Listę podobnych filmów (`suspend fun fetchSimilarMovies())`: lista kilku innych tytułów (opóźnienie: 2 sekundy).\n",
    "\n",
    "Należy użyć konstruktora `async` dla każdego z trzech zapytań, aby uruchomić je współbieżnie. Główna korutyna (`launch`) **musi poczekać** na zakończenie wszystkich trzech operacji za pomocą `.await()`. Przez cały czas ładowania danych **na ekranie powinien być widoczny wskaźnik postępu** (`CircularProgressIndicator`).\n",
    "\n",
    "Po pobraniu wszystkich danych, ekran powinien wyświetlić je w odpowiednich sekcjach (np. \"Opis\", \"Recenzje\", \"Polecane\"). Dodatkowo, na ekranie powinien znaleźć się tekst informujący o całkowitym czasie operacji pobierania danych. Czas ten powinien wynosić około 3 sekund (czas najdłuższej operacji), a nie 6.5 sekundy (suma czasów).\n",
    "\n",
    "\n",
    "## Odpowiedź ustna - **4 pkt**"
   ]
  },
  {
   "cell_type": "markdown",
   "id": "cf01cce2-309e-41d1-a8dd-7fb0e1aebb40",
   "metadata": {},
   "source": [
    "### Oceny\n",
    "\n",
    "|**ocena**|**punkty**|\n",
    "|:---:|:---:|\n",
    "|3,0 | 6 pkt|\n",
    "|3,5 | 7 pkt|\n",
    "|4,0 | 8 pkt|\n",
    "|4,5 | 9 pkt|\n",
    "|5,0 | 10 pkt|"
   ]
  },
  {
   "cell_type": "code",
   "execution_count": null,
   "id": "4650d81a-2371-444e-8f32-93b830a6e3e1",
   "metadata": {},
   "outputs": [],
   "source": []
  }
 ],
 "metadata": {
  "kernelspec": {
   "display_name": "",
   "name": ""
  },
  "language_info": {
   "name": ""
  }
 },
 "nbformat": 4,
 "nbformat_minor": 5
}
