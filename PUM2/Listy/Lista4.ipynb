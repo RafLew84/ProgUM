{
 "cells": [
  {
   "cell_type": "markdown",
   "id": "cfc5353a-ddc9-4dbd-bb86-edb2bea3d663",
   "metadata": {},
   "source": [
    "# **Lista 4**"
   ]
  },
  {
   "cell_type": "markdown",
   "id": "24fc38e5-c6ac-4180-9f9f-a8ba12355ef9",
   "metadata": {},
   "source": [
    "### Termin wykonania: \n",
    "- gr wt: 13.01\n",
    "- gr czw: 08.01\n",
    "\n",
    "## Zad 1 - **3 pkt**\n",
    "\n",
    "Stwórz aplikację która będzie prostą, osobistą biblioteką gier wideo. Użytkownik będzie mógł dodawać nowe gry do bazy `ROOM`, oznaczać je jako ulubione oraz filtrować widok, aby pokazać wszystkie gry lub tylko te ulubione. Ustawienie filtra będzie trwale zapisywane za pomocą `DataStore`.\n",
    "\n",
    "Wymagania Funkcjonalne:\n",
    "\n",
    "- Architektura:\n",
    "  - Aplikacja musi być zaimplementowana w architekturze `MVVM`.\n",
    "  - Należy stworzyć dwa osobne Repozytoria:\n",
    "    - `GamesRepository` do obsługi operacji na bazie danych `Room`.\n",
    "    - `SettingsRepository` do obsługi zapisu i odczytu ustawień z `Preferences DataStore`.\n",
    "- Przechowywanie Danych (`Room`):\n",
    "  - Stwórz encję (@Entity) Game zawierającą pola: `id` (klucz główny, auto-generowany), `title` (tytuł gry), `genre` (gatunek) oraz `isFavorite` (Boolean).\n",
    "  - Stwórz `GameDao` z następującymi metodami:\n",
    "    - `suspend fun insert(game: Game)`\n",
    "    - `suspend fun update(game: Game)`\n",
    "    - `suspend fun delete(game: Game)`\n",
    "    - `fun getAllGamesStream(): Flow<List<Game>>` (zwraca strumień wszystkich gier)\n",
    "    - `fun getFavoriteGamesStream(): Flow<List<Game>>` (zwraca strumień tylko ulubionych gier, WHERE isFavorite = true)\n",
    "  - Skonfiguruj klasę `@Database`.\n",
    "- Przechowywanie Ustawień (`Preferences DataStore`):\n",
    "  - Użyj `Preferences DataStore` do zapisania jednego ustawienia: `showOnlyFavorites` (Boolean).\n",
    "  - Stwórz `SettingsRepository`, który będzie udostępniał `Flow<Boolean>` z tym ustawieniem oraz funkcję `suspend fun setShowOnlyFavorites(showOnly: Boolean)`.\n",
    "- Warstwa Logiki (ViewModel):\n",
    "  - Stwórz `GamesViewModel`, który będzie przyjmował w konstruktorze oba repozytoria (`GamesRepository` i `SettingsRepository`).\n",
    "  - `ViewModel` musi stworzyć jeden główny obiekt stanu `UiState`, który będzie zawierał: listę gier do wyświetlenia oraz aktualny stan filtra `showOnlyFavorites`.\n",
    "  - `ViewModel` musi nasłuchiwać na zmiany w strumieniu ustawień z `SettingsRepository`. Gdy ustawienie `showOnlyFavorites` się zmieni, `ViewModel` musi **przełączyć się** na odpowiedni strumień z `GamesRepository` (`getAllGamesStream` lub `getFavoriteGamesStream`). Możesz wykorzystać `flatMapLatest`.\n",
    "  - `ViewModel` musi udostępniać funkcje do:\n",
    "    - Dodawania nowej gry.\n",
    "    - Przełączania statusu `isFavorite` dla istniejącej gry.\n",
    "    - Zmiany ustawienia filtra `showOnlyFavorites`.\n",
    "- Warstwa Prezentacji (UI - Composable):\n",
    "  - Ekran główny powinien wyświetlać listę gier (`LazyColumn`). Każdy element listy powinien pokazywać tytuł, gatunek i ikonę serca, która pozwala na przełączenie statusu `isFavorite`.\n",
    "- Na górze ekranu (np. w `TopAppBar` lub pod nią) umieść przełącznik (`Switch`) powiązany z ustawieniem `showOnlyFavorites`. Jego zmiana powinna trwale zapisać preferencję i automatycznie odfiltrować listę gier.\n",
    "- Dodaj prosty formularz (np. `TextField` i `Button` lub `FloatingActionButton`) do dodawania nowych gier do bazy.\n",
    "\n",
    "## Zad 2 - **3 pkt**\n",
    "\n",
    "Stworzenie aplikacji, która pobiera dane z publicznego `API` serialu \"Rick and Morty\" z pomocą biblioteki `Retrofit`. Aplikacja pozwoli na przeglądanie listy postaci oraz na jej dynamiczne filtrowanie według statusu (żywy, martwy, nieznany).\n",
    "\n",
    "API: The Rick and Morty API (`https://rickandmortyapi.com/`) - nie wymaga klucza.\n",
    "\n",
    "Wymagania Funkcjonalne:\n",
    "\n",
    "- Architektura:\n",
    "  - Aplikacja musi być zaimplementowana w architekturze `MVVM`.\n",
    "  - Należy stworzyć `RetrofitInstance` i `ApiService` do komunikacji z API.\n",
    "- Warstwa Logiki (ViewModel):\n",
    "  - Stwórz `CharacterViewModel`.\n",
    "  - ViewModel powinien mieć `StateFlow`, który przechowuje aktualny `UiState`. `UiState` powinien zawierać: listę postaci, stan ładowania (`isLoading`), ewentualny błąd oraz aktualnie wybrany filtr statusu.\n",
    "  - ViewModel musi udostępniać funkcję, np. `fun onFilterChanged(newStatus: String)`, która:\n",
    "    - Aktualizuje stan `UiState`, aby `UI` odzwierciedliło nowy wybrany filtr.\n",
    "    - Uruchamia w `viewModelScope` korutynę, która pobiera nową, odfiltrowaną listę postaci z `Repository`, używając nowego statusu jako parametru.\n",
    "- Warstwa Prezentacji (UI - Composable):\n",
    "  - Ekran powinien wyświetlać listę postaci (`LazyColumn`), pokazując ich obrazek, imię i status.\n",
    "  - Na górze ekranu umieść grupę przycisków (`Row` z `Button` lub `FilterChip`), które pozwolą użytkownikowi wybrać filtr: \"Wszyscy\" (bez parametru status), \"Żywi\", \"Martwi\", \"Nieznani\".\n",
    "  - Kliknięcie przycisku filtra powinno wywołać funkcję `onFilterChanged` w `ViewModelu`.\n",
    "  - Interfejs musi poprawnie obsługiwać stan ładowania (`CircularProgressIndicator`) i wyświetlać komunikaty o błędach.\n",
    "  - Wskazówka: Do ładowania obrazków z `URL` można użyć popularnej biblioteki `Coil`: `implementation(\"io.coil-kt:coil-compose:numer_wersji\")`\n",
    "\n",
    "## Odpowiedź ustna - **4 pkt**"
   ]
  },
  {
   "cell_type": "markdown",
   "id": "54c1c71d-1464-4cf9-8d5e-c251c7cf0088",
   "metadata": {},
   "source": [
    "### Oceny\n",
    "\n",
    "|**ocena**|**punkty**|\n",
    "|:---:|:---:|\n",
    "|3,0 | 6 pkt|\n",
    "|3,5 | 7 pkt|\n",
    "|4,0 | 8 pkt|\n",
    "|4,5 | 9 pkt|\n",
    "|5,0 | 10 pkt|"
   ]
  },
  {
   "cell_type": "code",
   "execution_count": null,
   "id": "4c5ab1ca-f50d-4c4a-b1f4-2bb9e15309d0",
   "metadata": {},
   "outputs": [],
   "source": []
  }
 ],
 "metadata": {
  "kernelspec": {
   "display_name": "",
   "name": ""
  },
  "language_info": {
   "name": ""
  }
 },
 "nbformat": 4,
 "nbformat_minor": 5
}
