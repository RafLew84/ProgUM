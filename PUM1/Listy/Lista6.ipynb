{
 "cells": [
  {
   "cell_type": "markdown",
   "id": "049d40bd-2181-4864-8c6f-f93505f3a722",
   "metadata": {
    "tags": []
   },
   "source": [
    "# Lista 6"
   ]
  },
  {
   "cell_type": "markdown",
   "id": "a235abfb-10b2-46fd-9734-f2e8ac44ff3f",
   "metadata": {},
   "source": [
    "### Termin wykonania: \n",
    "gr. śr: 28.05.2025 -   gr. czw: 29.05.2025"
   ]
  },
  {
   "cell_type": "markdown",
   "id": "5e6fc882-d399-4baa-b8a8-a5b79c2df1fb",
   "metadata": {},
   "source": [
    "## Zad 1 - Kotlin - **3 pkt**\n",
    "\n",
    "Zaimplementuj prosty, delegowany system powiadomień. \n",
    "1.  Zdefiniuj interfejs `Notifier` z jedną metodą: `fun send(message: String)`.\n",
    "2.  Stwórz dwie klasy implementujące interfejs `Notifier`:\n",
    "    * `EmailNotifier`: Metoda `send` powinna drukować na konsoli \"Sending Email: [message]\".\n",
    "    * `SMSNotifier`: Metoda `send` powinna drukować na konsoli \"Sending SMS: [message]\".\n",
    "3.  Stwórz klasę `NotificationService` która:\n",
    "    * Przyjmuje w konstruktorze instancję obiektu implementującego `Notifier`.\n",
    "    * Używa mechanizmu delegowania właściwości Kotlina (`by`), aby wszystkie wywołania metody `send` na instancji `NotificationService` były przekazywane do obiektu `Notifier` podanego w konstruktorze.\n",
    "4.   zademonstruj działanie `NotificationService` tworząc jej instancje z `EmailNotifier` i `SMSNotifier` i wywołując na nich metodę `send`.\n",
    "```kotlin\n",
    "Demonstracja\n",
    "val emailNotifier = EmailNotifier()\n",
    "val smsNotifier = SMSNotifier()\n",
    "\n",
    "val service1 = NotificationService(emailNotifier)\n",
    "service1.send(\"Hello via Email!\")\n",
    "\n",
    "val service2 = NotificationService(smsNotifier)\n",
    "service2.send(\"Hello via SMS!\")\n",
    "\n",
    "```\n",
    "\n",
    "```verbatim\n",
    ">>> Sending Email: Hello via Email!\n",
    ">>> Sending SMS: Hello via SMS!\n",
    "```"
   ]
  },
  {
   "cell_type": "markdown",
   "id": "4e048e57-9ea8-45ff-bfc7-23ba546fcb5d",
   "metadata": {},
   "source": [
    "## Zad 2 - Android Studio - **4 pkt**\n",
    "\n",
    "Stwórz aplikację wyświetlającą listę elementów, gdzie kliknięcie elementu uruchamia akcję systemową za pomocą Intenta.\n",
    "\n",
    "1.  Zdefiniuj listę danych, np. listę ulubionych stron internetowych (jako `List<String>` zawierająca adresy `URL`).\n",
    "\n",
    "```kotlin\n",
    "val websites = listOf(\n",
    "    \"[https://www.google.com](https://www.google.com)\",\n",
    "    \"[https://developer.android.com](https://developer.android.com)\",\n",
    "    \"[https://kotlinlang.org](https://kotlinlang.org)\"\n",
    ")\n",
    "```\n",
    "\n",
    "2.  W głównej funkcji `@Composable` użyj `LazyColumn` do wyświetlenia elementów tej listy. Każdy element powinien być osobnym wierszem (np. w komponencie Text wewnątrz `Row` lub `Column`, z odpowiednim `modifier = Modifier.clickable { ... }`).\n",
    "3.  Po kliknięciu na element listy (adres URL):\n",
    "    * Uzyskaj `Context` (np. za pomocą `LocalContext.current`).\n",
    "    * Stwórz `Intent` z akcją `Intent.ACTION_VIEW`.\n",
    "    * Ustaw dane dla Intenta na `Uri.parse(clickedUrl)`.\n",
    "    * Uruchom aktywność za pomocą `context.startActivity(intent)`.\n",
    "\n",
    "**Oczekiwane działanie:** Aplikacja wyświetla listę adresów `URL`. Kliknięcie adresu powinno otworzyć go w domyślnej przeglądarce internetowej urządzenia."
   ]
  },
  {
   "cell_type": "markdown",
   "id": "9b264263-5d14-477b-93be-40a364e17f4e",
   "metadata": {},
   "source": [
    "## Zad 3 - Android Studio - **3 pkt**\n",
    "\n",
    "Zbuduj prostą aplikację jednoekranową, która pozwala użytkownikowi wpisać tekst, a następnie udostępnić go za pomocą systemowego mechanizmu udostępniania (`Sharesheet`) przy użyciu `Intent` niejawnego (`ACTION_SEND`).\n",
    "\n",
    "1.  Na ekranie umieść:\n",
    "    * Pole `TextField` (lub `OutlinedTextField`), w którym użytkownik może wpisać dowolny tekst. Pamiętaj o zarządzaniu stanem tego pola (`remember { mutableStateOf(\"\") }`).\n",
    "    * Przycisk `Button` z etykietą *\"Udostępnij\"*.\n",
    "2. Po kliknięciu przycisku *\"Udostępnij\"*:\n",
    "   * Pobierz aktualny tekst wpisany w polu `TextField`.\n",
    "    * Uzyskaj `Context` (np. `LocalContext.current`).\n",
    "    * Stwórz Intent niejawny:\n",
    "      * Ustaw akcję na `Intent.ACTION_SEND`.\n",
    "      * Ustaw typ `MIME` na `\"text/plain\"`.\n",
    "      * Dodaj wpisany tekst jako `extra` pod kluczem `Intent.EXTRA_TEXT`.\n",
    "    * Stwórz `Intent` typu `chooser`, aby dać użytkownikowi wybór aplikacji do udostępnienia (`sendIntent` to `Intent` stworzony w poprzednim kroku):\n",
    "    ```kotlin\n",
    "        val shareIntent = Intent.createChooser(sendIntent, \"Udostępnij tekst przez...\")\n",
    "        \n",
    "    ```\n",
    "    * Uruchom aktywność za pomocą `context.startActivity(shareIntent)`.\n",
    "\n",
    "**Oczekiwane działanie:** Użytkownik wpisuje tekst w polu tekstowym. Po naciśnięciu przycisku \"Udostępnij\" pojawia się standardowe okno systemowe (Sharesheet) z listą aplikacji, przez które można udostępnić wpisany tekst (np. E-mail, SMS, Notatki, media społecznościowe itp.). Wybranie aplikacji powoduje przekazanie do niej tekstu."
   ]
  },
  {
   "cell_type": "markdown",
   "id": "bf7dc4a0-5a00-4def-8203-5f7a75b2de4e",
   "metadata": {},
   "source": [
    "### Oceny\n",
    "\n",
    "|**ocena**|**punkty**|\n",
    "|:---:|:---:|\n",
    "|3,0 | 6 pkt|\n",
    "|3,5 | 7 pkt|\n",
    "|4,0 | 8 pkt|\n",
    "|4,5 | 9 pkt|\n",
    "|5,0 | 10 pkt|"
   ]
  }
 ],
 "metadata": {
  "kernelspec": {
   "display_name": "Kotlin",
   "language": "kotlin",
   "name": "kotlin"
  },
  "language_info": {
   "codemirror_mode": "text/x-kotlin",
   "file_extension": ".kt",
   "mimetype": "text/x-kotlin",
   "name": "kotlin",
   "nbconvert_exporter": "",
   "pygments_lexer": "kotlin",
   "version": "1.9.23"
  }
 },
 "nbformat": 4,
 "nbformat_minor": 5
}
