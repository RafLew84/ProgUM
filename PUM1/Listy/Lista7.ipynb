{
 "cells": [
  {
   "cell_type": "markdown",
   "id": "049d40bd-2181-4864-8c6f-f93505f3a722",
   "metadata": {
    "tags": []
   },
   "source": [
    "# Lista 7"
   ]
  },
  {
   "cell_type": "markdown",
   "id": "a235abfb-10b2-46fd-9734-f2e8ac44ff3f",
   "metadata": {},
   "source": [
    "### Termin wykonania: \n",
    "gr. śr: 11.06.2025 -   gr. czw: 12.06.2025"
   ]
  },
  {
   "cell_type": "markdown",
   "id": "b0d1bf8a-e679-4a0e-94ed-a68163329bd6",
   "metadata": {},
   "source": [
    "## Zadanie 1 - **10 pkt**\n",
    "\n",
    "Stwórz aplikację w Jetpack Compose umożliwiającą przeglądanie list zadań oraz podsumowania ocen, z nawigacją między trzema ekranami za pomocą dolnego paska nawigacyjnego oraz klikalnych elementów listy.\n",
    "\n",
    "<img src=\"l7z1.png\" width=\"650\" />\n",
    "\n",
    "**Wymagania Aplikacji:**\n",
    "\n",
    "Aplikacja ma składać się z trzech głównych ekranów:\n",
    "\n",
    "* **E1 - Ekran List Zadań (`AssignmentListsScreen`):** Wyświetla listę wszystkich dostępnych list zadań. Dla każdej listy pokazuje nazwę przedmiotu, otrzymaną ocenę oraz liczbę zadań na tej liście. Elementy tej listy są klikalne.\n",
    "* **E2 - Ekran Ocen (`GradesSummaryScreen`):** Wyświetla podsumowanie ocen, pokazując średnią ocenę (ze wszystkich list) dla każdego przedmiotu.\n",
    "* **E3 - Ekran Szczegółów Listy (`ListDetailScreen`):** Wyświetla szczegółową zawartość (zadania) wybranej listy zadań – numer zadania, treść zadania i maksymalną liczbę punktów.\n",
    "\n",
    "**Nawigacja:**\n",
    "\n",
    "* Użytkownik może przełączać się między ekranami E1 i E2 za pomocą dolnego paska nawigacyjnego (`NavigationBar`).\n",
    "* Kliknięcie na element listy na ekranie E1 powoduje przejście do ekranu E3, który wyświetla szczegóły klikniętej listy zadań. Wymaga to przekazania identyfikatora wybranej listy jako argumentu nawigacji.\n",
    "\n",
    "**Struktury Danych (Przykładowe):**\n",
    "\n",
    "```kotlin\n",
    "// Reprezentuje pojedyncze zadanie na liście\n",
    "data class Task(\n",
    "    val id: Int,\n",
    "    val description: String,\n",
    "    val maxPoints: Int\n",
    ")\n",
    "\n",
    "// Reprezentuje całą listę zadań z danego przedmiotu\n",
    "data class AssignmentList(\n",
    "    val id: String, // Unikalny identyfikator listy, np. \"PUM1_Lista1\"\n",
    "    val subject: String, // Nazwa przedmiotu, np. \"Programowanie Urządzeń Mobilnych 1\"\n",
    "    val listNumber: Int, // Numer listy, np. 1\n",
    "    val grade: Double, // Otrzymana ocena za listę\n",
    "    val tasks: List<Task> // Lista zadań wchodzących w skład tej listy\n",
    ")\n",
    "\n",
    "// Przykładowe dane\n",
    "val sampleAssignmentLists = listOf(\n",
    "    AssignmentList(\"PUM1_L1\", \"Programowanie Urządzeń Mobilnych 1\", 1, 4.5, listOf(\n",
    "        Task(1, \"Implementacja FizzBuzz\", 3), Task(2, \"Sprawdzenie palindromu\", 3), Task(3, \"Trójkąt Pascala\", 4)\n",
    "    )),\n",
    "    AssignmentList(\"PUM1_L2\", \"Programowanie Urządzeń Mobilnych 1\", 2, 5.0, listOf(\n",
    "        Task(1, \"Funkcje rozszerzające\", 4), Task(2, \"Funkcje wyższego rzędu\", 6)\n",
    "    )),\n",
    "    AssignmentList(\"SO_L1\", \"Systemy Operacyjne\", 1, 3.5, listOf(\n",
    "        Task(1, \"Implementacja semafora\", 5), Task(2, \"Problem producenta-konsumenta\", 5)\n",
    "    )),\n",
    "    AssignmentList(\"SO_L2\", \"Systemy Operacyjne\", 2, 4.0, listOf(\n",
    "        Task(1, \"Algorytmy szeregowania CPU\", 6), Task(2, \"Zarządzanie pamięcią\", 4)\n",
    "    ))\n",
    "    // Dodaj więcej danych dla lepszego testowania\n",
    ")\n",
    "\n",
    "```\n",
    "\n",
    "1.  Definicja Ekranów: Stwórz trzy funkcje `@Composable` dla ekranów `E1`, `E2` i `E3`: `AssignmentListsScreen`, `GradesSummaryScreen`, `ListDetailScreen`. Przygotuj `ListDetailScreen` do odbierania argumentu `listId`.\n",
    "2.  Konfiguracja Nawigacji:\n",
    "    * Zainicjalizuj `NavController`.\n",
    "    * Zdefiniuj *trasy* dla wszystkich trzech ekranów, w tym trasę z argumentem dla `E3` (np. `\"listDetail/{listId}\"`).\n",
    "    * Przygotuj dane dla elementów `NavigationBar` (ikony, etykiety, trasy dla `E1` i `E2`).\n",
    "3. Implementacja `Scaffold`:\n",
    "    * Użyj `Scaffold` jako głównego kontenera layoutu.\n",
    "    * Zaimplementuj `NavigationBar` w slocie `bottomBar`, dynamicznie tworząc `NavigationBarItem` dla `E1` i `E2`. Obsłuż kliknięcia, aby nawigować między tymi ekranami. Ustaw stan `selected` na podstawie bieżącej trasy.\n",
    "4. Implementacja `NavHost`:\n",
    "    * Umieść `NavHost` w slocie `content` komponentu `Scaffold`.\n",
    "    * Skonfiguruj `NavHost` z `navController`, trasą startową i definicjami `composable` dla tras `E1`, `E2` oraz `E3`.\n",
    "    * Skonfiguruj odbieranie argumentu `listId` dla trasy `E3`.\n",
    "5. Implementacja Ekranu `E1` (`AssignmentListsScreen`):\n",
    "    * Użyj `LazyColumn` i `items` do wyświetlenia `sampleAssignmentLists`.\n",
    "    * Każdy wiersz powinien pokazywać nazwę przedmiotu, ocenę i liczbę zadań.\n",
    "    * Dodaj `Modifier.clickable` do wierszy, aby po kliknięciu nawigować do `E3`, przekazując `ID` klikniętej listy (`assignmentList.id`).\n",
    "6. Implementacja Ekranu `E2` (`GradesSummaryScreen`):\n",
    "    * Użyj `LazyColumn`.\n",
    "    * Przetwórz `sampleAssignmentLists` (`groupBy`, `mapValues`, `average`), aby uzyskać średnią ocenę dla każdego przedmiotu.\n",
    "    * Wyświetl listę przedmiotów wraz z ich średnimi ocenami.\n",
    "7. Implementacja Ekranu `E3` (`ListDetailScreen`):\n",
    "    * Odbierz argument `listId` z nawigacji.\n",
    "    * Znajdź odpowiednią `AssignmentList` w `sampleAssignmentLists` na podstawie `listId`.\n",
    "    * Użyj `LazyColumn` i `items` do wyświetlenia szczegółów każdego `Task` (numer, opis, punkty) z znalezionej listy.\n",
    "    * Obsłuż przypadek, gdyby `listId` nie pasowało do żadnej listy."
   ]
  },
  {
   "cell_type": "markdown",
   "id": "bf7dc4a0-5a00-4def-8203-5f7a75b2de4e",
   "metadata": {},
   "source": [
    "### Oceny\n",
    "\n",
    "|**ocena**|**punkty**|\n",
    "|:---:|:---:|\n",
    "|3,0 | 6 pkt|\n",
    "|3,5 | 7 pkt|\n",
    "|4,0 | 8 pkt|\n",
    "|4,5 | 9 pkt|\n",
    "|5,0 | 10 pkt|"
   ]
  }
 ],
 "metadata": {
  "kernelspec": {
   "display_name": "Kotlin",
   "language": "kotlin",
   "name": "kotlin"
  },
  "language_info": {
   "codemirror_mode": "text/x-kotlin",
   "file_extension": ".kt",
   "mimetype": "text/x-kotlin",
   "name": "kotlin",
   "nbconvert_exporter": "",
   "pygments_lexer": "kotlin",
   "version": "1.9.23"
  }
 },
 "nbformat": 4,
 "nbformat_minor": 5
}
