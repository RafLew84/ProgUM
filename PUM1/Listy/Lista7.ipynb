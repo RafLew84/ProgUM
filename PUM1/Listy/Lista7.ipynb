{
 "cells": [
  {
   "cell_type": "markdown",
   "id": "049d40bd-2181-4864-8c6f-f93505f3a722",
   "metadata": {
    "tags": []
   },
   "source": [
    "# Lista 7"
   ]
  },
  {
   "cell_type": "markdown",
   "id": "a235abfb-10b2-46fd-9734-f2e8ac44ff3f",
   "metadata": {},
   "source": [
    "### Termin wykonania: \n",
    "gr. śr: 11.06.2025 -   gr. czw: 12.06.2025"
   ]
  },
  {
   "cell_type": "markdown",
   "id": "b0d1bf8a-e679-4a0e-94ed-a68163329bd6",
   "metadata": {},
   "source": [
    "**Treść listy pojawi się do końca kwietnia**"
   ]
  },
  {
   "cell_type": "markdown",
   "id": "bf7dc4a0-5a00-4def-8203-5f7a75b2de4e",
   "metadata": {},
   "source": [
    "### Oceny\n",
    "\n",
    "|**ocena**|**punkty**|\n",
    "|:---:|:---:|\n",
    "|3,0 | 6 pkt|\n",
    "|3,5 | 7 pkt|\n",
    "|4,0 | 8 pkt|\n",
    "|4,5 | 9 pkt|\n",
    "|5,0 | 10 pkt|"
   ]
  }
 ],
 "metadata": {
  "kernelspec": {
   "display_name": "Kotlin",
   "language": "kotlin",
   "name": "kotlin"
  },
  "language_info": {
   "codemirror_mode": "text/x-kotlin",
   "file_extension": ".kt",
   "mimetype": "text/x-kotlin",
   "name": "kotlin",
   "nbconvert_exporter": "",
   "pygments_lexer": "kotlin",
   "version": "1.9.23"
  }
 },
 "nbformat": 4,
 "nbformat_minor": 5
}
