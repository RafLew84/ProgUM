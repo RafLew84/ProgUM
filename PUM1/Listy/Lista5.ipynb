{
 "cells": [
  {
   "cell_type": "markdown",
   "id": "049d40bd-2181-4864-8c6f-f93505f3a722",
   "metadata": {
    "tags": []
   },
   "source": [
    "# Lista 5"
   ]
  },
  {
   "cell_type": "markdown",
   "id": "a235abfb-10b2-46fd-9734-f2e8ac44ff3f",
   "metadata": {},
   "source": [
    "### Termin wykonania: \n",
    "gr. śr: 14.05.2025 -   gr. czw: 15.05.2025"
   ]
  },
  {
   "cell_type": "markdown",
   "id": "73e53557-c305-4e57-a7ca-b34b6cc337fd",
   "metadata": {},
   "source": [
    "## Zad 1 - **3 pkt**\n",
    "\n",
    "Do aplikacji `Counter` dodaj przycisk pozwalający zmniejszyć stan licznika, oraz przysick pozwalający zresetować stan licznika (ustawić na wartość `0`). UI aplikacji przygotuj według poniższego wzoru.\n",
    "\n",
    "<img src=\"l5z1.png\" width=\"150\" />\n",
    "\n",
    "Kod startowy:\n",
    "\n",
    "```kotlin\n",
    "\n",
    "@Composable\n",
    "fun CounterExample(){\n",
    "    var counter by remember { mutableIntStateOf(0) }\n",
    "    Column(\n",
    "        verticalArrangement = Arrangement.Center,\n",
    "        horizontalAlignment = Alignment.CenterHorizontally,\n",
    "        modifier = Modifier.fillMaxSize()\n",
    "    ){\n",
    "        Spacer(modifier = Modifier.weight(0.3f))\n",
    "        Text(\n",
    "            text = counter.toString(),\n",
    "            fontSize = 250.sp,\n",
    "            textAlign = TextAlign.Center,\n",
    "            modifier = Modifier.weight(1f)\n",
    "        )\n",
    "        Button(\n",
    "            modifier = Modifier.fillMaxWidth(),\n",
    "            shape = RectangleShape,\n",
    "            onClick = { counter++ }\n",
    "        ){\n",
    "            Text(text = \"Count UP\")\n",
    "        }\n",
    "    }\n",
    "}\n",
    "\n",
    "```\n",
    "\n",
    "## Zad 2 - **7 pkt**\n",
    "\n",
    "Przygotuj aplikację `Kalkulator`.\n",
    "- aplikacja może działać tylko na dwóch liczbach całkowitych\n",
    "- obsługuje dodawanie, odejmowanie, dzielenie (należy obsłużyć wyjątek dzielenia przez `0`), mnożenie\n",
    "- po naciśnięciu przycisku z działaniem wyświetlany jest wynik\n",
    "- możesz wykorzystać pola `TextField` lub `OutlinedTextField`\n",
    "- aplikacja musi zachować dane przy zmianie konfiguracji urządzenia (np przy zmianie orientacji)\n",
    "- aby uniknąć błędów przy wpisywaniu danych możesz wykorzystać atrybut `keyboardOptions = KeyboardOptions(keyboardType = KeyboardType.Number)` pola `TextField`\n",
    "- UI przygotuj w oparciu o poniższą grafikę\n",
    "\n",
    "<img src=\"l5z2.PNG\" width=\"150\" />"
   ]
  },
  {
   "cell_type": "markdown",
   "id": "bf7dc4a0-5a00-4def-8203-5f7a75b2de4e",
   "metadata": {},
   "source": [
    "### Oceny\n",
    "\n",
    "|**ocena**|**punkty**|\n",
    "|:---:|:---:|\n",
    "|3,0 | 6 pkt|\n",
    "|3,5 | 7 pkt|\n",
    "|4,0 | 8 pkt|\n",
    "|4,5 | 9 pkt|\n",
    "|5,0 | 10 pkt|"
   ]
  }
 ],
 "metadata": {
  "kernelspec": {
   "display_name": "Kotlin",
   "language": "kotlin",
   "name": "kotlin"
  },
  "language_info": {
   "codemirror_mode": "text/x-kotlin",
   "file_extension": ".kt",
   "mimetype": "text/x-kotlin",
   "name": "kotlin",
   "nbconvert_exporter": "",
   "pygments_lexer": "kotlin",
   "version": "1.9.23"
  }
 },
 "nbformat": 4,
 "nbformat_minor": 5
}
